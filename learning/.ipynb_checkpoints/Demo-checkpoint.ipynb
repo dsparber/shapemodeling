{
 "cells": [
  {
   "cell_type": "markdown",
   "metadata": {},
   "source": [
    "# Learning based face modifying\n"
   ]
  },
  {
   "cell_type": "code",
   "execution_count": 1,
   "metadata": {},
   "outputs": [],
   "source": [
    "import os\n",
    "import glob\n",
    "import numpy as np\n",
    "import meshplot as mp\n",
    "import threevis\n",
    "import openmesh as om\n",
    "import numpy as np\n",
    "from __future__ import print_function\n",
    "from ipywidgets import interact, interactive, fixed, interact_manual\n",
    "import ipywidgets as widgets\n",
    "\n",
    "from data import load_obj\n",
    "from data.face_dataset import FaceDataset\n",
    "from decode import decode"
   ]
  },
  {
   "cell_type": "markdown",
   "metadata": {},
   "source": [
    "### Files"
   ]
  },
  {
   "cell_type": "code",
   "execution_count": 2,
   "metadata": {},
   "outputs": [],
   "source": [
    "base_path = '../data/aligned_faces_example/example4'\n",
    "files = glob.glob(os.path.join(base_path, \"*.obj\"))"
   ]
  },
  {
   "cell_type": "markdown",
   "metadata": {},
   "source": [
    "### Load dataset"
   ]
  },
  {
   "cell_type": "code",
   "execution_count": 3,
   "metadata": {},
   "outputs": [],
   "source": [
    "dataset = FaceDataset(base_path)\n",
    "mean = dataset.get_mean().transpose(1, 0).numpy()\n",
    "f = load_obj(files[0])[1]\n",
    "f = f.numpy()"
   ]
  },
  {
   "cell_type": "markdown",
   "metadata": {},
   "source": [
    "### Visualization"
   ]
  },
  {
   "cell_type": "code",
   "execution_count": 13,
   "metadata": {
    "scrolled": false
   },
   "outputs": [],
   "source": [
    "colors = threevis.FaceAttribute(np.full((len(f), 3), .5))\n",
    "\n",
    "def display(v, f):\n",
    "    context = threevis.Context(width=640, height=640)\n",
    "    normals = threevis.calculate_face_normals(v, f)\n",
    "    mesh = threevis.Mesh(v, f, normals=normals)\n",
    "    context.draw_faces(v, f, normals = normals, shading = 'flat', colors=colors)\n",
    "    context.draw_faces(v, f, normals = normals, shading = 'wireframe')\n",
    "    context.display()"
   ]
  },
  {
   "cell_type": "code",
   "execution_count": 14,
   "metadata": {},
   "outputs": [
    {
     "data": {
      "application/vnd.jupyter.widget-view+json": {
       "model_id": "d385b63cb5b448fbb1e3f3bab468c4f9",
       "version_major": 2,
       "version_minor": 0
      },
      "text/plain": [
       "interactive(children=(FloatSlider(value=0.0, description='z1', max=1.0, min=-1.0), FloatSlider(value=0.0, desc…"
      ]
     },
     "metadata": {},
     "output_type": "display_data"
    }
   ],
   "source": [
    "@interact(z1=(-1.0,1.0), z2=(-1.0,1.0), z3=(-1.0,1.0), z4=(-1.0,1.0), z5=(-1.0,1.0), z6=(-1.0,1.0), z7=(-1.0,1.0), z8=(-1.0,1.0), z9=(-1.0,1.0), z10=(-1.0,1.0))\n",
    "def transform(z1, z2, z3, z4, z5, z6, z7, z8, z9, z10):\n",
    "    z = [z1, z2, z3, z4, z4, z6, z7, z8, z9, z10]\n",
    "    x_hat = decode(z, padding=241)\n",
    "    display(mean + x_hat.numpy(), f)"
   ]
  },
  {
   "cell_type": "code",
   "execution_count": null,
   "metadata": {},
   "outputs": [],
   "source": []
  },
  {
   "cell_type": "code",
   "execution_count": null,
   "metadata": {},
   "outputs": [],
   "source": []
  },
  {
   "cell_type": "code",
   "execution_count": null,
   "metadata": {},
   "outputs": [],
   "source": []
  }
 ],
 "metadata": {
  "kernelspec": {
   "display_name": "Python 3",
   "language": "python",
   "name": "python3"
  },
  "language_info": {
   "codemirror_mode": {
    "name": "ipython",
    "version": 3
   },
   "file_extension": ".py",
   "mimetype": "text/x-python",
   "name": "python",
   "nbconvert_exporter": "python",
   "pygments_lexer": "ipython3",
   "version": "3.8.2"
  }
 },
 "nbformat": 4,
 "nbformat_minor": 2
}
